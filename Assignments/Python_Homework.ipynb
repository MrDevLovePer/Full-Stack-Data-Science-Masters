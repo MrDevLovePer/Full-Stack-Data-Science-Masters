{
 "cells": [
  {
   "cell_type": "markdown",
   "id": "4d140553",
   "metadata": {},
   "source": [
    "# Python Homework \n",
    "### <ins><a href=\"https://courses.ineuron.ai/Full-Stack-Data-Science-Upcoming-batch\">Full Stack Data Science - iNeuron<a/></ins>"
   ]
  },
  {
   "cell_type": "markdown",
   "id": "5d571a74",
   "metadata": {},
   "source": [
    "#### Name: Pavan Kumar M\n",
    "#### https://t.me/DevLovePer\n",
    "#### https://linkedin.com/in/DevLovePer\n",
    "#### https://github.com/MrDevLovePer"
   ]
  },
  {
   "cell_type": "markdown",
   "id": "b934e3f3",
   "metadata": {},
   "source": [
    "#### 1 . you have to write a fun which will take string and return a len of it without using a inbuilt fun len"
   ]
  },
  {
   "cell_type": "code",
   "execution_count": null,
   "id": "ddc6d64d",
   "metadata": {},
   "outputs": [],
   "source": [
    "def find_len(string):\n",
    "    counter = 0\n",
    "\n",
    "    for letter in string:\n",
    "        counter+= 1\n",
    "    return counter\n",
    "\n",
    "find_len(\"pavan\")"
   ]
  },
  {
   "cell_type": "code",
   "execution_count": null,
   "id": "2057af46",
   "metadata": {},
   "outputs": [],
   "source": [
    "#Alternative Method\n",
    "\n",
    "\n",
    "def find_len1(string):\n",
    "    \"\"\"\n",
    "    logic is, inject an unknown object to the string, \n",
    "    by default it assigns the last position for that object, \n",
    "    then find the index of that last positioned object.\n",
    "    hence its index is the length of that string,\n",
    "    remember index starts from 0.\n",
    "    \n",
    "    input: find_len1(x)\n",
    "    here x is a string\n",
    "    output: retuens the length of a string\n",
    "    \n",
    "    \"\"\"\n",
    "    \n",
    "    string+='Ɐ'\n",
    "    return string.index('Ɐ')\n",
    "\n",
    "\n",
    "    \n",
    "find_len1('pavan')"
   ]
  },
  {
   "cell_type": "markdown",
   "id": "556ffc3b",
   "metadata": {},
   "source": [
    "#### 2 . write a fun which will be able to print an index of all premitive element which you will pass.\n"
   ]
  },
  {
   "cell_type": "code",
   "execution_count": null,
   "id": "7646b7b3",
   "metadata": {},
   "outputs": [],
   "source": [
    "def find_index(item):\n",
    "    if type(item) == list or tuple or str:\n",
    "        for sample in range(len(item)):\n",
    "            print('index of ', item[sample], 'is ',sample)\n",
    "    else:\n",
    "        return \"item cannot be indexable\""
   ]
  },
  {
   "cell_type": "code",
   "execution_count": null,
   "id": "1341b502",
   "metadata": {},
   "outputs": [],
   "source": [
    "find_index([1,2,3,4,5,6,4,3,2,1,4]) #list\n",
    "#find_index((1,2,3,4,5,6,2,3,1,2,3)) #tuple\n",
    "#find_index('pavan')                 #string"
   ]
  },
  {
   "cell_type": "markdown",
   "id": "aa8c54e4",
   "metadata": {},
   "source": [
    "#### 3 . Write a fun which will take input as a dict and give me out as a list of all the values even in case of 2 level nesting it should work . \n"
   ]
  },
  {
   "cell_type": "code",
   "execution_count": null,
   "id": "921d04b5",
   "metadata": {},
   "outputs": [],
   "source": [
    "# Function works even if it is multi nested\n",
    "\n",
    "def all_values(args):\n",
    "    for item in args.values():\n",
    "        if type(item)!=dict:\n",
    "            lis.append(item)  \n",
    "        else:\n",
    "            all_values(item)\n",
    "    \"\"\"\n",
    "    >pass arguments in the form of dictionary\n",
    "    returns all the values inside the dictionary,\n",
    "    even if it nested and nested for n times\n",
    "    example:\n",
    "        lis=[]\n",
    "        all_values({'a':'apple','b':'ball','c':'cat','d':{'e':'egg','f':'fan','g':'gun'},'h':'hat'})\n",
    "        print(lis)\n",
    "    >returns ['apple', 'ball', 'cat', 'egg', 'fan', 'gun', 'ineuron', 'jam', 'kikat', 'love']\n",
    "\n",
    "    \n",
    "    \"\"\"\n",
    "# for nested dict\n",
    "lis=[]\n",
    "all_values({'a':'apple','b':'ball','c':'cat','d':{'e':'egg','f':'fan','g':'gun'},'h':'hat'})\n",
    "print(lis)\n",
    "\n",
    "# for Super nested dict\n",
    "lis=[]\n",
    "all_values({'a':'apple',\n",
    "     'b':'ball',\n",
    "     'c':'cat',\n",
    "     'd':{'e':'egg','f':'fan','g':'gun',\n",
    "          'h':{'i': 'ineuron','j':'jam','k':'kikat'}},\n",
    "     'l':'love'})\n",
    "print(lis)"
   ]
  },
  {
   "cell_type": "code",
   "execution_count": null,
   "id": "4af21752",
   "metadata": {
    "scrolled": true
   },
   "outputs": [],
   "source": []
  },
  {
   "cell_type": "markdown",
   "id": "9f9bd83c",
   "metadata": {},
   "source": [
    "#### 4 . write a fun which will take another function as an input and return me an output "
   ]
  },
  {
   "cell_type": "code",
   "execution_count": null,
   "id": "7bc6bfdc",
   "metadata": {},
   "outputs": [],
   "source": [
    "#function 1\n",
    "def fact(x):\n",
    "    if x==1:\n",
    "        return 1\n",
    "    else:\n",
    "        return x*fact(x-1)\n",
    "#function 2\n",
    "def add(a,b):\n",
    "    return a+b\n",
    "\n",
    "# function 1 + 2\n",
    "def multi_process(x,a,b):\n",
    "    print(f\"factorial of {x} is {fact(x)}\\nAddition of {a} and {b} is {add(a,b)}\")\n",
    "    \n",
    "\n",
    "multi_process(4,3,2)"
   ]
  },
  {
   "cell_type": "markdown",
   "id": "0fccb2b9",
   "metadata": {},
   "source": [
    "#### 5. write a function whihc will take multiple list as a input and give me concatnation of all the element as and output "
   ]
  },
  {
   "cell_type": "code",
   "execution_count": null,
   "id": "765ea150",
   "metadata": {},
   "outputs": [],
   "source": [
    "# Function works even if it is multi nested\n",
    "\n",
    "def mix(args):\n",
    "    for i in args:\n",
    "        if type(i)!=list:\n",
    "            lis.append(i)\n",
    "        else:\n",
    "            mix(i)\n",
    "lis=[]\n",
    "mix([[1,2,3],[4,5,6],[7,8,9,[10,11,[12,13],[14,15]]],16,17])\n",
    "lis"
   ]
  },
  {
   "cell_type": "markdown",
   "id": "4872d072",
   "metadata": {},
   "source": [
    "#### 6 . write a function which will be able to take a list as an input return an index of each element like a inbuilt index function but even if we have repetative element it should return index"
   ]
  },
  {
   "cell_type": "code",
   "execution_count": null,
   "id": "d380cffc",
   "metadata": {},
   "outputs": [],
   "source": [
    "#Refer question number 2\n",
    "def find_index(item):\n",
    "    for sample in range(len(item)):\n",
    "        print('index of ', item[sample], 'is ',sample)\n",
    "find_index([1,2,1,2,4,3,2,3])"
   ]
  },
  {
   "cell_type": "markdown",
   "id": "b35ad631",
   "metadata": {},
   "source": [
    "#### 7. Write a function which will whould return list of all the file name from a directory"
   ]
  },
  {
   "cell_type": "code",
   "execution_count": null,
   "id": "d0528faf",
   "metadata": {},
   "outputs": [],
   "source": [
    "import os\n",
    "def list_dir(path =os.getcwd()):\n",
    "    return os.listdir(path)\n",
    "list_dir()"
   ]
  },
  {
   "cell_type": "markdown",
   "id": "58e6f8fb",
   "metadata": {},
   "source": [
    "#### 8. write a function which will be able to show your system configuration"
   ]
  },
  {
   "cell_type": "code",
   "execution_count": null,
   "id": "7e66871b",
   "metadata": {},
   "outputs": [],
   "source": [
    "import platform\n",
    "def sys_info():\n",
    "    return platform.uname()\n",
    "sys_info()"
   ]
  },
  {
   "cell_type": "markdown",
   "id": "cb940013",
   "metadata": {},
   "source": [
    "#### 9.  write a function which will be able to show date and time"
   ]
  },
  {
   "cell_type": "code",
   "execution_count": null,
   "id": "290c48d3",
   "metadata": {},
   "outputs": [],
   "source": [
    "import time\n",
    "def current_time():\n",
    "    now = time.localtime()\n",
    "    print(f'Date: {now.tm_mday}-{now.tm_mon}-{now.tm_year}\\nTime: {now.tm_hour}:{now.tm_min}:{now.tm_sec}')\n",
    "\n",
    "current_time()"
   ]
  },
  {
   "cell_type": "markdown",
   "id": "8fc0fa76",
   "metadata": {},
   "source": [
    "#### 10. write a function whihc will be able to read a image file and show it to you"
   ]
  },
  {
   "cell_type": "code",
   "execution_count": null,
   "id": "edbfb1c6",
   "metadata": {},
   "outputs": [],
   "source": [
    "import cv2\n",
    "\n",
    "def read_image(path):\n",
    "    img = cv2.imread(path) \n",
    "\n",
    "    cv2.imshow('image', img) \n",
    "    cv2.waitKey(0)        \n",
    "    cv2.destroyAllWindows()\n",
    "\n",
    "read_image(\"path\")"
   ]
  },
  {
   "cell_type": "markdown",
   "id": "4fdedacf",
   "metadata": {},
   "source": [
    "#### 11. write a function which can read video file and play for you"
   ]
  },
  {
   "cell_type": "code",
   "execution_count": null,
   "id": "53d0bbf3",
   "metadata": {},
   "outputs": [],
   "source": []
  },
  {
   "cell_type": "markdown",
   "id": "a4a1fac0",
   "metadata": {},
   "source": [
    "#### 12.  write a function whihc can move a file from one directory to another directory "
   ]
  },
  {
   "cell_type": "code",
   "execution_count": null,
   "id": "d298124e",
   "metadata": {},
   "outputs": [],
   "source": [
    "from pathlib import Path\n",
    "\n",
    "#Enter the from and to paths in from_path and to_path\n",
    "\n",
    "# my approach is, moving file means system changes the path of that file, \n",
    "# so i used the path renaming approach\n",
    "\n",
    "def move_file(from_path, to_path)\n",
    "    Path(from_path).rename(to_path)\n",
    "move_file('from_path', 'to_path')"
   ]
  },
  {
   "cell_type": "markdown",
   "id": "8f9c36fd",
   "metadata": {},
   "source": [
    "#### 13. write a function which will be able to shutdonw your system"
   ]
  },
  {
   "cell_type": "code",
   "execution_count": null,
   "id": "40f1ab95",
   "metadata": {},
   "outputs": [],
   "source": [
    "#Please don't try this at home, office, or any where :)\n",
    "\n",
    "def shutdown():    \n",
    "    if input(\"Are you sure, wanna shutdown?\\n Type 1 and click enter to shutdown: \")==1:\n",
    "        os.system(\"shutdown /p\")\n",
    "    else:\n",
    "        print(\"Shutdown command rejected, ThankYou\")\n",
    "shutdown() "
   ]
  },
  {
   "cell_type": "markdown",
   "id": "c23e10cb",
   "metadata": {},
   "source": [
    "#### 14. write a function whihc will be able to access your mail\n",
    "\n",
    "### click the below link and enable the less secure app access in order to access  gmail here:\n",
    "\n",
    "https://www.google.com/settings/security/lesssecureapps\n"
   ]
  },
  {
   "cell_type": "code",
   "execution_count": null,
   "id": "aef06f2c",
   "metadata": {},
   "outputs": [],
   "source": [
    "import smtplib\n",
    "import time\n",
    "import imaplib\n",
    "import email\n",
    "import traceback \n",
    "\n",
    "#     goto https://www.google.com/settings/security/lesssecureapps \n",
    "#     and enable the less secure app access in order to access gmail here:\n",
    "\n",
    "\n",
    "#Just enter the mail id and password in string below\n",
    "\n",
    "FROM_EMAIL = \"mail@gmail.com\" # Enetr your  mail id here\n",
    "FROM_PWD = \"password\" #Enter your Password here\n",
    "\n",
    "\n",
    "SMTP_SERVER = \"imap.gmail.com\" \n",
    "SMTP_PORT = 993\n",
    "\n",
    "def my_inbox():\n",
    "    try:\n",
    "        mail = imaplib.IMAP4_SSL(SMTP_SERVER)\n",
    "        mail.login(FROM_EMAIL,FROM_PWD)\n",
    "        mail.select('inbox')\n",
    "\n",
    "        data = mail.search(None, 'ALL')\n",
    "        mail_ids = data[1]\n",
    "        id_list = mail_ids[0].split()   \n",
    "        first_email_id = int(id_list[0])\n",
    "        latest_email_id = int(id_list[-1])\n",
    "\n",
    "        for i in range(latest_email_id,first_email_id, -1):\n",
    "            data = mail.fetch(str(i), '(RFC822)' )\n",
    "            for response_part in data:\n",
    "                arr = response_part[0]\n",
    "                if isinstance(arr, tuple):\n",
    "                    msg = email.message_from_string(str(arr[1],'utf-8'))\n",
    "                    email_subject = msg['subject']\n",
    "                    email_from = msg['from']\n",
    "                    print('From : ' + email_from + '\\n')\n",
    "                    print('Subject : ' + email_subject + '\\n')\n",
    "                    print(\"=================================\")\n",
    "\n",
    "    except Exception as e:\n",
    "        traceback.print_exc() \n",
    "        print(str(e))\n",
    "\n",
    "my_inbox()"
   ]
  },
  {
   "cell_type": "markdown",
   "id": "e32a24f7",
   "metadata": {},
   "source": [
    "#### 15. write a func bywhcih i can send a mail to anyone\n",
    "\n",
    "### click the below link and enable the less secure app access in order to send a gmail:\n",
    "\n",
    "https://www.google.com/settings/security/lesssecureapps"
   ]
  },
  {
   "cell_type": "code",
   "execution_count": null,
   "id": "14479b12",
   "metadata": {},
   "outputs": [],
   "source": [
    "import smtplib\n",
    "from email.mime.multipart import MIMEMultipart\n",
    "from email.mime.text import MIMEText\n",
    "mail_content = \".........\"\n",
    "\n",
    "#The mail addresses and password\n",
    "sender_address = 'yourmail@gmail.com'\n",
    "sender_pass = 'password'\n",
    "receiver_address = 'clientmail@gmail.com'\n",
    "\n",
    "#Setup the MIME\n",
    "message = MIMEMultipart()\n",
    "message['From'] = sender_address\n",
    "message['To'] = receiver_address\n",
    "message['Subject'] = 'A test mail sent by Python. It has an attachment.'   #The subject line\n",
    "#The body and the attachments for the mail\n",
    "message.attach(MIMEText(mail_content, 'plain'))\n",
    "#Create SMTP session for sending the mail\n",
    "session = smtplib.SMTP('smtp.gmail.com', 587) #use gmail with port\n",
    "session.starttls() #enable security\n",
    "session.login(sender_address, sender_pass) #login with mail_id and password\n",
    "text = message.as_string()\n",
    "session.sendmail(sender_address, receiver_address, text)\n",
    "session.quit()\n",
    "print('Mail Sent')"
   ]
  },
  {
   "cell_type": "markdown",
   "id": "6e76028a",
   "metadata": {},
   "source": [
    "#### 16. write a func to read a complete PDf file"
   ]
  },
  {
   "cell_type": "code",
   "execution_count": null,
   "id": "aa8f96db",
   "metadata": {},
   "outputs": [],
   "source": [
    "# importing required modules\n",
    "!pip install PyPDF2\n",
    "import PyPDF2\n",
    "\n",
    "def read_pdf(path):\n",
    "    pdfFileObj = open(path, 'rb')\n",
    "\n",
    "    pdfReader = PyPDF2.PdfFileReader(pdfFileObj)\n",
    "\n",
    "    print(pdfReader.numPages)\n",
    "\n",
    "    pageObj = pdfReader.getPage(0)\n",
    "\n",
    "    print(pageObj.extractText())\n",
    "\n",
    "    pdfFileObj.close()\n",
    "    \n",
    "read_pdf('path') # ether the path"
   ]
  },
  {
   "cell_type": "markdown",
   "id": "62deef6e",
   "metadata": {},
   "source": [
    "#### 17.  write a function to read a word file"
   ]
  },
  {
   "cell_type": "code",
   "execution_count": null,
   "id": "d6399568",
   "metadata": {},
   "outputs": [],
   "source": []
  },
  {
   "cell_type": "markdown",
   "id": "d0168119",
   "metadata": {},
   "source": [
    "#### 18. write a function which can help you to filter only word file from a directory"
   ]
  },
  {
   "cell_type": "code",
   "execution_count": null,
   "id": "06daa2d8",
   "metadata": {},
   "outputs": [],
   "source": [
    "import os\n",
    "def filter_file(path =os.getcwd()):\n",
    "    files = os.listdir(path)\n",
    "    lis = [file for file in files if str(file).endswith('.pdf')] #change the \n",
    "    return lis\n",
    "filter_file(\"C:\\\\Users\\\\Pavan\\\\Downloads\")"
   ]
  },
  {
   "cell_type": "markdown",
   "id": "3901caec",
   "metadata": {},
   "source": [
    "#### 19. write a function by which you can print an ip address of your system"
   ]
  },
  {
   "cell_type": "code",
   "execution_count": null,
   "id": "ee476238",
   "metadata": {},
   "outputs": [],
   "source": [
    "import socket\n",
    "def ip():\n",
    "    print(\"Your Computer IP Address is: \" + socket.gethostbyname(socket.gethostname()))\n",
    "ip()"
   ]
  },
  {
   "cell_type": "markdown",
   "id": "d9dc485a",
   "metadata": {},
   "source": [
    "#### 20. write a function by whihc you will be able to append two PDF files"
   ]
  },
  {
   "cell_type": "code",
   "execution_count": null,
   "id": "81618977",
   "metadata": {},
   "outputs": [],
   "source": [
    "import subprocess #to show the merged pdf file automatically\n",
    "\n",
    "from PyPDF2 import PdfFileMerger\n",
    "def merge_pdf(pdfs): # Specify the path for file1 and file2\n",
    "\n",
    "    merger = PdfFileMerger()\n",
    "    for pdf in pdfs:\n",
    "        merger.append(pdf)\n",
    "\n",
    "    merger.write(\"merged.pdf\")\n",
    "    merger.close()\n",
    "    \n",
    "    #Verification\n",
    "    if 'merged.pdf' in os.listdir():\n",
    "        print(f\"Merge Succesfull, check the file in file:\\\\\\\\\\\\{os.getcwd()}\\\\merged.pdf\")\n",
    "    \n",
    "        #code to open the merged file\n",
    "        chrome_path = \"C:\\\\Program Files\\\\Google\\\\Chrome\\\\Application\\\\chrome.exe\"\n",
    "        p = subprocess.Popen([chrome_path, \"C:\\\\Users\\\\pavan\\\\merged.pdf\"]) \n",
    "        returncode = p.wait() #This waits for the process to close\n",
    "        \n",
    "\n",
    "# provide multiple file paths in the form of list and leave the rest to code\n",
    "merge_pdf([\"C:\\\\Users\\\\Pavan\\\\Downloads\\\\Bavs.pdf\",\"C:\\\\Users\\\\Pavan\\\\Downloads\\\\Bhavya.pdf\"])\n",
    "\n"
   ]
  },
  {
   "cell_type": "code",
   "execution_count": null,
   "id": "dbc6814f",
   "metadata": {},
   "outputs": [],
   "source": []
  }
 ],
 "metadata": {
  "kernelspec": {
   "display_name": "Python 3",
   "language": "python",
   "name": "python3"
  },
  "language_info": {
   "codemirror_mode": {
    "name": "ipython",
    "version": 3
   },
   "file_extension": ".py",
   "mimetype": "text/x-python",
   "name": "python",
   "nbconvert_exporter": "python",
   "pygments_lexer": "ipython3",
   "version": "3.8.8"
  }
 },
 "nbformat": 4,
 "nbformat_minor": 5
}
